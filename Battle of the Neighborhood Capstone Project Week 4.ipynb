{
    "cells": [
        {
            "cell_type": "markdown",
            "metadata": {},
            "source": "## The Battle of Neighborhoods | Business Proposal | Introduction - Week 4 Part 1"
        },
        {
            "cell_type": "markdown",
            "metadata": {},
            "source": "## Introduction:\n\n<p>The purpose of this project is to help people to exploring better facilities around their neighborhood. It will help people to make smart and efficient decision on selecting the right or quick access to move around their neighborhood using mapped information on bike movement around Toronto city.</p>\nA lot of people are migrating to Canada and there is a growing need for greener cities and Bicycle movement is one of the greener ways to move around the city.\n<p>Easy identification of mapped bike ways will a long way help and ease movement around the neighborhood. \nProper documentation of these path and other information will help a great deal.\nThe City installs bicycle post-and-rings within the public right-of-way, typically on City of Toronto sidewalks and boulevards, wherever public bicycle parking facilities are needed.</p>\n\n"
        },
        {
            "cell_type": "markdown",
            "metadata": {},
            "source": "### Problem we tried to Solve:\n\nFor new migrant to move around the city, there are designated bicycle route and parks to make the ease of movement to Super Market, Cinema, School or nearest Sport Centre. \nThese information at the tip of the finger will aid ease of movement. \n### <p> Issues:</p>\n1.\tSort a list of path and location in Neighborhood in Toronto\n2.\tSort a list of bicycles post available around Toronto.\n"
        },
        {
            "cell_type": "markdown",
            "metadata": {},
            "source": "### The Location:\nSeveral areas are captured in this project but we part of the challenge we sort to resolve is to provide the various bicycles post and rings around the various neighborhood in Toronto.\nThese route covers a lot of places within the neighborhood.\n"
        },
        {
            "cell_type": "markdown",
            "metadata": {},
            "source": "### Using Open Data solution:\nLink: https://open.toronto.ca/dataset/street-furniture-bicycle-parking/\nThis project will use Toronto Open Data as a prime gathering source as it has a database for millions of places around the Toronto areas.\n"
        },
        {
            "cell_type": "markdown",
            "metadata": {},
            "source": "### Work Flow:\nUsing the credentials available from the Toronto open data sources, certain information has been mined and made available from the site. This will aid this research to determine the direction of data and amount of information that will be mined. \nThe data available are in the Xlsx, Json and CSV format respectively.\n"
        },
        {
            "cell_type": "markdown",
            "metadata": {},
            "source": "### Clustering Approach:\nPart of the information we are exploring involve a lot of clustering and we should be able to provide details of cluster information for the best location to find dedicated routes for bicycles with in the various neighborhoods in Toronto. Using K means clustering data, we should be able to establish where these unsupervised data lie within the Neighborhood and make good decisions at the end of the analysis.\n"
        },
        {
            "cell_type": "markdown",
            "metadata": {},
            "source": "### Libraries to use to develop the project:\nPandas: For creating and manipulating dataframes.\nFolium: Python visualization library would be used to visualize the neighborhoods cluster distribution of using interactive leaflet map.\n<p>\n1, Scikit Learn: For importing k-means clustering.</p>\n<p>2, JSON: Library to handle JSON files.</p>\n <p>3, XML: To separate data from presentation and XML stores data in plain text format.</p>\n   <p>4, Geocoder: To retrieve Location Data.</p>\n     <p>5, Beautiful Soup and Requests: To scrap and library to handle http requests.</p>\n      <p> 6, Matplotlib: Python Plotting Module</p>\n"
        },
        {
            "cell_type": "code",
            "execution_count": null,
            "metadata": {},
            "outputs": [],
            "source": ""
        }
    ],
    "metadata": {
        "kernelspec": {
            "display_name": "Python 3",
            "language": "python",
            "name": "python3"
        },
        "language_info": {
            "codemirror_mode": {
                "name": "ipython",
                "version": 3
            },
            "file_extension": ".py",
            "mimetype": "text/x-python",
            "name": "python",
            "nbconvert_exporter": "python",
            "pygments_lexer": "ipython3",
            "version": "3.7.6"
        }
    },
    "nbformat": 4,
    "nbformat_minor": 4
}