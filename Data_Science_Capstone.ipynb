{
    "cells": [
        {
            "cell_type": "markdown",
            "metadata": {
                "collapsed": true
            },
            "source": "# Peer - Graded Assignment: Capstone Project Notebook.\nCreate a new repository on your github account and name it Coursera_Capstone If you don't have a Github account \nPlease create one and follow the instructions here: \n\nNow, Start a Jupyter Notebook using any platform that you can comfortable with and do the following \n#### 1.) Write some markdown to explain that this notebook will be mainly used for the Capstone Project.\n#### 2.) Import the Pandas library as Pd."
        },
        {
            "cell_type": "code",
            "execution_count": 2,
            "metadata": {},
            "outputs": [],
            "source": "import pandas as pd "
        },
        {
            "cell_type": "markdown",
            "metadata": {},
            "source": "3.) Next Import Numpy as np"
        },
        {
            "cell_type": "code",
            "execution_count": 3,
            "metadata": {},
            "outputs": [],
            "source": "import numpy as np"
        },
        {
            "cell_type": "markdown",
            "metadata": {},
            "source": "4.) Print the following Statement: \"Hello Capstone Project Course!"
        },
        {
            "cell_type": "code",
            "execution_count": 4,
            "metadata": {},
            "outputs": [
                {
                    "name": "stdout",
                    "output_type": "stream",
                    "text": "Hello Capstone Project Course!\n"
                }
            ],
            "source": "print(\"Hello Capstone Project Course!\")"
        },
        {
            "cell_type": "markdown",
            "metadata": {},
            "source": "5.) Push the Notebook to your Github Repository and Submit a Link to the notebook on your Github repository."
        },
        {
            "cell_type": "code",
            "execution_count": null,
            "metadata": {},
            "outputs": [],
            "source": ""
        }
    ],
    "metadata": {
        "kernelspec": {
            "display_name": "Python 3.6",
            "language": "python",
            "name": "python3"
        },
        "language_info": {
            "codemirror_mode": {
                "name": "ipython",
                "version": 3
            },
            "file_extension": ".py",
            "mimetype": "text/x-python",
            "name": "python",
            "nbconvert_exporter": "python",
            "pygments_lexer": "ipython3",
            "version": "3.6.9"
        }
    },
    "nbformat": 4,
    "nbformat_minor": 1
}